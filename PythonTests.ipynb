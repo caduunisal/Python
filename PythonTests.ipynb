{
  "nbformat": 4,
  "nbformat_minor": 0,
  "metadata": {
    "colab": {
      "name": "PythonTests.ipynb",
      "provenance": [],
      "collapsed_sections": [],
      "authorship_tag": "ABX9TyNMesYp19TtyRKGawNP171R",
      "include_colab_link": true
    },
    "kernelspec": {
      "name": "python3",
      "display_name": "Python 3"
    }
  },
  "cells": [
    {
      "cell_type": "markdown",
      "metadata": {
        "id": "view-in-github",
        "colab_type": "text"
      },
      "source": [
        "<a href=\"https://colab.research.google.com/github/caduunisal/Python/blob/master/PythonTests.ipynb\" target=\"_parent\"><img src=\"https://colab.research.google.com/assets/colab-badge.svg\" alt=\"Open In Colab\"/></a>"
      ]
    },
    {
      "cell_type": "code",
      "metadata": {
        "id": "D3sDFJTxXV8R",
        "colab_type": "code",
        "outputId": "d5075d03-6783-4662-f1a2-14937c85f589",
        "colab": {
          "base_uri": "https://localhost:8080/",
          "height": 182
        }
      },
      "source": [
        "import pandas as pd\n",
        "import io\n",
        "import requests\n",
        "\n",
        "url = \"https://raw.githubusercontent.com/alura-cursos/formacao-data-science/master/movies.csv\"\n",
        "movies = pd.read_csv(url)\n",
        "print(movies.head())\n",
        "\n",
        "\n",
        "\n",
        "'''\n",
        "url = \"https://raw.githubusercontent.com/alura-cursos/formacao-data-science/master/movies.csv\"\n",
        "get_movies = requests.get(url).content\n",
        "movies = pd.read_csv(io.StringIO(get_movies.decode(\"utf-8\")))\n",
        "print(movies.describe())\n",
        "'''\n",
        "\n",
        "'''\n",
        "url = \"https://raw.github.com/vincentarelbundock/Rdatasets/master/csv/datasets/AirPassengers.csv\"\n",
        "s = requests.get(url).content\n",
        "ds = pd.read_csv(io.StringIO(s.decode('utf-8')))\n",
        "print(ds.describe())\n",
        "'''\n",
        "\n"
      ],
      "execution_count": 37,
      "outputs": [
        {
          "output_type": "stream",
          "text": [
            "   movieId  ...                                       genres\n",
            "0        1  ...  Adventure|Animation|Children|Comedy|Fantasy\n",
            "1        2  ...                   Adventure|Children|Fantasy\n",
            "2        3  ...                               Comedy|Romance\n",
            "3        4  ...                         Comedy|Drama|Romance\n",
            "4        5  ...                                       Comedy\n",
            "\n",
            "[5 rows x 3 columns]\n"
          ],
          "name": "stdout"
        },
        {
          "output_type": "execute_result",
          "data": {
            "text/plain": [
              "'\\nurl = \"https://raw.github.com/vincentarelbundock/Rdatasets/master/csv/datasets/AirPassengers.csv\"\\ns = requests.get(url).content\\nds = pd.read_csv(io.StringIO(s.decode(\\'utf-8\\')))\\nprint(ds.describe())\\n'"
            ]
          },
          "metadata": {
            "tags": []
          },
          "execution_count": 37
        }
      ]
    }
  ]
}